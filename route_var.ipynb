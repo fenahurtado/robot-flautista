{
 "cells": [
  {
   "cell_type": "code",
   "execution_count": 5,
   "metadata": {},
   "outputs": [],
   "source": [
    "import numpy as np\n",
    "import matplotlib.pyplot as plt\n",
    "from utils.cinematica import *\n",
    "from utils.player import MotorsController"
   ]
  },
  {
   "cell_type": "code",
   "execution_count": 31,
   "metadata": {},
   "outputs": [],
   "source": [
    "def get_route_positions(xi, zi, alphai, xf, zf, alphaf, divisions=20, plot=False):\n",
    "    ri, thetai, oi = get_r_theta_o(xi, zi, alphai)\n",
    "    rf, thetaf, of = get_r_theta_o(xf, zf, alphaf)\n",
    "\n",
    "    deltaR = rf - ri\n",
    "    deltaTheta = thetaf - thetai\n",
    "    deltaO = of - oi\n",
    "\n",
    "    x2i, z2i = get_pos_punta(xi, zi, alphai*pi/180)\n",
    "    x_a, z_a, alpha_a = xi, zi, alphai\n",
    "\n",
    "    x2f, z2f = get_pos_punta(xf, zf, alphaf*pi/180)\n",
    "\n",
    "    dist = 0\n",
    "    d = []\n",
    "    x_points = []\n",
    "    z_points = []\n",
    "    alpha_points = []\n",
    "    x2_points = []\n",
    "    z2_points = []\n",
    "    for n in range(divisions+1):\n",
    "        xn, zn, alphan = get_x_z_alpha(ri + n*deltaR/divisions, thetai + n*deltaTheta/divisions, oi + n*deltaO/divisions)\n",
    "        #print(ri + n*deltaR/N, thetai + n*deltaTheta/N, oi + n*deltaO/N)\n",
    "        #print(get_r_theta_o(xn, zn, alphan))\n",
    "        #print(alphan)\n",
    "        x_points.append(round(xn,3))\n",
    "        z_points.append(round(zn,3))\n",
    "        alpha_points.append(round(alphan,3))\n",
    "        if plot:\n",
    "            x2, z2 = get_pos_punta(xn, zn, alphan*pi/180)\n",
    "            x2_points.append(x2)\n",
    "            z2_points.append(z2)\n",
    "        dist += sqrt((xn - x_a)**2 + (zn - z_a)**2 + (alphan - alpha_a)**2)\n",
    "        d.append(dist)\n",
    "        x_a, z_a, alpha_a = xn, zn, alphan\n",
    "\n",
    "    return x_points, z_points, alpha_points, d\n",
    "\n",
    "def max_dist_rec(acc, dec, T):\n",
    "    d_acc = (acc/2) * ((dec*T)/(acc+dec))**2\n",
    "    d_dec = acc*(dec*T)/(acc+dec) * (T-(dec*T)/(acc+dec)) / 2\n",
    "    dist_max = d_acc + d_dec\n",
    "    return dist_max\n",
    "\n",
    "def plan_speed_curve(d, acceleration, deceleration, T):\n",
    "    speed = (acceleration*deceleration*T - sqrt(acceleration*deceleration*(acceleration*deceleration*T**2 - 2*acceleration*d - 2*deceleration*d))) / (acceleration+deceleration)\n",
    "    t_acc = speed / acceleration\n",
    "    t_dec = T - speed / deceleration\n",
    "    return speed, t_acc, t_dec\n",
    "\n",
    "def plan_temps_according_to_speed(distances, vel, t_acc, t_dec, acc, dec):\n",
    "    d_t_acc = acc * t_acc**2 / 2\n",
    "    d_t_dec = d_t_acc + vel * (t_dec - t_acc)\n",
    "    temps = []\n",
    "    for d_sum in distances:\n",
    "        if d_sum < d_t_acc:\n",
    "            temps.append(sqrt(2*d_sum/acc))\n",
    "        elif d_sum < d_t_dec:\n",
    "            temps.append((d_sum - d_t_acc)/vel + t_acc)\n",
    "        else:\n",
    "            a = dec / 2\n",
    "            b = -(vel + (2*t_dec*dec)/2)\n",
    "            c = d_sum - d_t_dec + vel*t_dec + (dec*t_dec**2)/2\n",
    "            t = (-b - sqrt(round(b**2 - 4*a*c,3)))/(2*a)\n",
    "            temps.append(t)\n",
    "    return temps\n",
    "\n",
    "def x_mm_to_units(mm):\n",
    "    return int(mm * 1000 / 8 )\n",
    "\n",
    "def z_mm_to_units(mm):\n",
    "    return int(mm * 1000 / 8 )\n",
    "\n",
    "def alpha_angle_to_units(angle):\n",
    "    return int(angle * 10000 / 360)\n",
    "\n",
    "def plan_route(x_points, z_points, alpha_points, temps):\n",
    "    points = {'x': [], 'z': [], 'alpha': [], 't': []}\n",
    "\n",
    "    for i in range(len(x_points) - 1):\n",
    "        x = x_mm_to_units(x_points[i])            \n",
    "        z = z_mm_to_units(z_points[i])\n",
    "        alpha = alpha_angle_to_units(alpha_points[i])\n",
    "        t = temps[i]\n",
    "\n",
    "        points['x'].append(x)\n",
    "        points['z'].append(z)\n",
    "        points['alpha'].append(alpha)\n",
    "        points['t'].append(t)\n",
    "\n",
    "    return points\n",
    "        \n",
    "def get_route(initial_state, final_state, acc=20, dec=20, T=None):\n",
    "    x_points, z_points, alpha_points, d = get_route_positions(*initial_state.cart_coords(), *final_state.cart_coords(), divisions=12, plot=False)\n",
    "    if not T:\n",
    "        T = 0.1\n",
    "        while True:\n",
    "            if not max_dist_rec(acc, dec, T) < d[-1]:\n",
    "                break\n",
    "            T += 0.1\n",
    "        T = T*2\n",
    "    else:\n",
    "        if max_dist_rec(acc, dec, T) < d[-1]:\n",
    "            print(f'Impossible to achieve such position with given acceleration and deceleration. {d[-1]} > {max_dist_rec(acc, dec, T)}')\n",
    "            return None\n",
    "    vel, t_acc, t_dec = plan_speed_curve(d[-1], acc, dec, T)\n",
    "    temps = plan_temps_according_to_speed(d, vel, t_acc, t_dec, acc, dec)\n",
    "    route = plan_route(x_points, z_points, alpha_points, temps)\n",
    "    return route"
   ]
  },
  {
   "cell_type": "code",
   "execution_count": 38,
   "metadata": {},
   "outputs": [],
   "source": [
    "stateA = State(15,45,0,0)\n",
    "stateB = State(9,41,0.5,10)\n",
    "\n",
    "r = get_route(stateA, stateB, acc=20, dec=20, T=3)"
   ]
  },
  {
   "cell_type": "code",
   "execution_count": 39,
   "metadata": {},
   "outputs": [
    {
     "data": {
      "image/png": "[encoded data removed]",
      "text/plain": [
       "<Figure size 432x288 with 1 Axes>"
      ]
     },
     "metadata": {
      "needs_background": "light"
     },
     "output_type": "display_data"
    }
   ],
   "source": [
    "plt.plot(r['t'], r['alpha'])\n",
    "plt.ylabel('some numbers')\n",
    "plt.show()"
   ]
  },
  {
   "cell_type": "code",
   "execution_count": 34,
   "metadata": {},
   "outputs": [
    {
     "data": {
      "text/plain": [
       "{'x': [6250, 6312, 6375, 6438, 6501, 6564, 6628, 6691, 6755, 6819, 6883, 6948],\n",
       " 'z': [17375,\n",
       "  17410,\n",
       "  17446,\n",
       "  17480,\n",
       "  17514,\n",
       "  17547,\n",
       "  17579,\n",
       "  17610,\n",
       "  17641,\n",
       "  17671,\n",
       "  17701,\n",
       "  17729],\n",
       " 'alpha': [0, -9, -18, -27, -37, -46, -55, -64, -74, -83, -92, -101],\n",
       " 't': [2.522123978500469e-08,\n",
       "  0.31009307616641557,\n",
       "  0.5505647792032898,\n",
       "  0.7905606627309493,\n",
       "  1.030089337762006,\n",
       "  1.2691601354008568,\n",
       "  1.507783255877242,\n",
       "  1.7459699570598262,\n",
       "  1.9837327952310435,\n",
       "  2.2210859358770407,\n",
       "  2.458045559513349,\n",
       "  2.694630398374661]}"
      ]
     },
     "execution_count": 34,
     "metadata": {},
     "output_type": "execute_result"
    }
   ],
   "source": [
    "r"
   ]
  },
  {
   "cell_type": "code",
   "execution_count": null,
   "metadata": {},
   "outputs": [],
   "source": []
  }
 ],
 "metadata": {
  "kernelspec": {
   "display_name": "Python 3.10.6 64-bit",
   "language": "python",
   "name": "python3"
  },
  "language_info": {
   "codemirror_mode": {
    "name": "ipython",
    "version": 3
   },
   "file_extension": ".py",
   "mimetype": "text/x-python",
   "name": "python",
   "nbconvert_exporter": "python",
   "pygments_lexer": "ipython3",
   "version": "3.10.6"
  },
  "orig_nbformat": 4,
  "vscode": {
   "interpreter": {
    "hash": "e7370f93d1d0cde622a1f8e1c04877d8463912d04d973331ad4851f04de6915a"
   }
  }
 },
 "nbformat": 4,
 "nbformat_minor": 2
}
