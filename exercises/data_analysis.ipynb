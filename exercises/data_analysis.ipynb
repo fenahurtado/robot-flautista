{
 "cells": [
  {
   "cell_type": "code",
   "execution_count": 5,
   "metadata": {},
   "outputs": [],
   "source": [
    "import pandas as pd\n",
    "import seaborn as sns"
   ]
  },
  {
   "cell_type": "code",
   "execution_count": 7,
   "metadata": {},
   "outputs": [
    {
     "data": {
      "text/html": [
       "<div>\n",
       "<style scoped>\n",
       "    .dataframe tbody tr th:only-of-type {\n",
       "        vertical-align: middle;\n",
       "    }\n",
       "\n",
       "    .dataframe tbody tr th {\n",
       "        vertical-align: top;\n",
       "    }\n",
       "\n",
       "    .dataframe thead th {\n",
       "        text-align: right;\n",
       "    }\n",
       "</style>\n",
       "<table border=\"1\" class=\"dataframe\">\n",
       "  <thead>\n",
       "    <tr style=\"text-align: right;\">\n",
       "      <th></th>\n",
       "      <th>Unnamed: 0</th>\n",
       "      <th>times</th>\n",
       "      <th>frequency</th>\n",
       "      <th>temperature</th>\n",
       "      <th>mass_flow</th>\n",
       "      <th>volume_flow</th>\n",
       "      <th>mouth_pressure</th>\n",
       "      <th>offset</th>\n",
       "      <th>theta</th>\n",
       "      <th>radius</th>\n",
       "      <th>alpha</th>\n",
       "      <th>z</th>\n",
       "      <th>x</th>\n",
       "      <th>alpha_ref</th>\n",
       "      <th>z_ref</th>\n",
       "      <th>x_ref</th>\n",
       "      <th>flow_ref</th>\n",
       "    </tr>\n",
       "  </thead>\n",
       "  <tbody>\n",
       "    <tr>\n",
       "      <th>0</th>\n",
       "      <td>0</td>\n",
       "      <td>91.760475</td>\n",
       "      <td>160.341695</td>\n",
       "      <td>32.103127</td>\n",
       "      <td>1.322266</td>\n",
       "      <td>1.357422</td>\n",
       "      <td>0.000538</td>\n",
       "      <td>139.0</td>\n",
       "      <td>45.0</td>\n",
       "      <td>156.54</td>\n",
       "      <td>0.0</td>\n",
       "      <td>0.0</td>\n",
       "      <td>0.0</td>\n",
       "      <td>0.0</td>\n",
       "      <td>0.0</td>\n",
       "      <td>0.0</td>\n",
       "      <td>0.0</td>\n",
       "    </tr>\n",
       "    <tr>\n",
       "      <th>1</th>\n",
       "      <td>1</td>\n",
       "      <td>91.776662</td>\n",
       "      <td>160.341695</td>\n",
       "      <td>32.103127</td>\n",
       "      <td>1.322266</td>\n",
       "      <td>1.357422</td>\n",
       "      <td>0.000538</td>\n",
       "      <td>139.0</td>\n",
       "      <td>45.0</td>\n",
       "      <td>156.54</td>\n",
       "      <td>0.0</td>\n",
       "      <td>0.0</td>\n",
       "      <td>0.0</td>\n",
       "      <td>0.0</td>\n",
       "      <td>0.0</td>\n",
       "      <td>0.0</td>\n",
       "      <td>0.0</td>\n",
       "    </tr>\n",
       "    <tr>\n",
       "      <th>2</th>\n",
       "      <td>2</td>\n",
       "      <td>91.795878</td>\n",
       "      <td>160.341695</td>\n",
       "      <td>32.103127</td>\n",
       "      <td>1.322266</td>\n",
       "      <td>1.357422</td>\n",
       "      <td>0.000538</td>\n",
       "      <td>139.0</td>\n",
       "      <td>45.0</td>\n",
       "      <td>156.54</td>\n",
       "      <td>0.0</td>\n",
       "      <td>0.0</td>\n",
       "      <td>0.0</td>\n",
       "      <td>0.0</td>\n",
       "      <td>0.0</td>\n",
       "      <td>0.0</td>\n",
       "      <td>0.0</td>\n",
       "    </tr>\n",
       "    <tr>\n",
       "      <th>3</th>\n",
       "      <td>3</td>\n",
       "      <td>91.853107</td>\n",
       "      <td>160.341695</td>\n",
       "      <td>32.103127</td>\n",
       "      <td>1.322266</td>\n",
       "      <td>1.357422</td>\n",
       "      <td>0.000155</td>\n",
       "      <td>139.0</td>\n",
       "      <td>45.0</td>\n",
       "      <td>156.54</td>\n",
       "      <td>0.0</td>\n",
       "      <td>0.0</td>\n",
       "      <td>0.0</td>\n",
       "      <td>0.0</td>\n",
       "      <td>0.0</td>\n",
       "      <td>0.0</td>\n",
       "      <td>0.0</td>\n",
       "    </tr>\n",
       "    <tr>\n",
       "      <th>4</th>\n",
       "      <td>4</td>\n",
       "      <td>91.869083</td>\n",
       "      <td>160.341695</td>\n",
       "      <td>32.103127</td>\n",
       "      <td>1.322266</td>\n",
       "      <td>1.357422</td>\n",
       "      <td>-0.000152</td>\n",
       "      <td>139.0</td>\n",
       "      <td>45.0</td>\n",
       "      <td>156.54</td>\n",
       "      <td>0.0</td>\n",
       "      <td>0.0</td>\n",
       "      <td>0.0</td>\n",
       "      <td>0.0</td>\n",
       "      <td>0.0</td>\n",
       "      <td>0.0</td>\n",
       "      <td>0.0</td>\n",
       "    </tr>\n",
       "  </tbody>\n",
       "</table>\n",
       "</div>"
      ],
      "text/plain": [
       "   Unnamed: 0      times   frequency  temperature  mass_flow  volume_flow  \\\n",
       "0           0  91.760475  160.341695    32.103127   1.322266     1.357422   \n",
       "1           1  91.776662  160.341695    32.103127   1.322266     1.357422   \n",
       "2           2  91.795878  160.341695    32.103127   1.322266     1.357422   \n",
       "3           3  91.853107  160.341695    32.103127   1.322266     1.357422   \n",
       "4           4  91.869083  160.341695    32.103127   1.322266     1.357422   \n",
       "\n",
       "   mouth_pressure  offset  theta  radius  alpha    z    x  alpha_ref  z_ref  \\\n",
       "0        0.000538   139.0   45.0  156.54    0.0  0.0  0.0        0.0    0.0   \n",
       "1        0.000538   139.0   45.0  156.54    0.0  0.0  0.0        0.0    0.0   \n",
       "2        0.000538   139.0   45.0  156.54    0.0  0.0  0.0        0.0    0.0   \n",
       "3        0.000155   139.0   45.0  156.54    0.0  0.0  0.0        0.0    0.0   \n",
       "4       -0.000152   139.0   45.0  156.54    0.0  0.0  0.0        0.0    0.0   \n",
       "\n",
       "   x_ref  flow_ref  \n",
       "0    0.0       0.0  \n",
       "1    0.0       0.0  \n",
       "2    0.0       0.0  \n",
       "3    0.0       0.0  \n",
       "4    0.0       0.0  "
      ]
     },
     "execution_count": 7,
     "metadata": {},
     "output_type": "execute_result"
    }
   ],
   "source": [
    "file_name = '/home/fernando/Dropbox/UC/Magister/robot-flautista/data/data_02.csv.csv'\n",
    "data = pd.read_csv(file_name)\n",
    "data.head()"
   ]
  },
  {
   "cell_type": "code",
   "execution_count": 30,
   "metadata": {},
   "outputs": [
    {
     "data": {
      "text/plain": [
       "<AxesSubplot:xlabel='times', ylabel='frequency'>"
      ]
     },
     "execution_count": 30,
     "metadata": {},
     "output_type": "execute_result"
    },
    {
     "data": {
      "image/png": "[encoded data removed]",
      "text/plain": [
       "<Figure size 432x288 with 1 Axes>"
      ]
     },
     "metadata": {
      "needs_background": "light"
     },
     "output_type": "display_data"
    }
   ],
   "source": [
    "sns.lineplot(data=data, x='times', y='frequency')"
   ]
  },
  {
   "cell_type": "code",
   "execution_count": null,
   "metadata": {},
   "outputs": [],
   "source": []
  }
 ],
 "metadata": {
  "kernelspec": {
   "display_name": "Python 3.10.6 64-bit",
   "language": "python",
   "name": "python3"
  },
  "language_info": {
   "codemirror_mode": {
    "name": "ipython",
    "version": 3
   },
   "file_extension": ".py",
   "mimetype": "text/x-python",
   "name": "python",
   "nbconvert_exporter": "python",
   "pygments_lexer": "ipython3",
   "version": "3.10.6"
  },
  "orig_nbformat": 4,
  "vscode": {
   "interpreter": {
    "hash": "e7370f93d1d0cde622a1f8e1c04877d8463912d04d973331ad4851f04de6915a"
   }
  }
 },
 "nbformat": 4,
 "nbformat_minor": 2
}
