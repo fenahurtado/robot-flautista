{
 "cells": [
  {
   "cell_type": "code",
   "execution_count": 1,
   "metadata": {},
   "outputs": [],
   "source": [
    "import numpy as np\n",
    "import matplotlib.pyplot as plt\n",
    "from utils.cinematica import *\n",
    "from utils.player import MotorsController\n",
    "import json"
   ]
  },
  {
   "cell_type": "code",
   "execution_count": 105,
   "metadata": {},
   "outputs": [],
   "source": [
    "def get_route_positions(xi, zi, alphai, xf, zf, alphaf, divisions=20, plot=False):\n",
    "    ri, thetai, oi = get_r_theta_o(xi, zi, alphai)\n",
    "    rf, thetaf, of = get_r_theta_o(xf, zf, alphaf)\n",
    "\n",
    "    deltaR = rf - ri\n",
    "    deltaTheta = thetaf - thetai\n",
    "    deltaO = of - oi\n",
    "\n",
    "    x2i, z2i = get_pos_punta(xi, zi, alphai*pi/180)\n",
    "    x_a, z_a, alpha_a = xi, zi, alphai\n",
    "\n",
    "    x2f, z2f = get_pos_punta(xf, zf, alphaf*pi/180)\n",
    "\n",
    "    dist = 0\n",
    "    d = []\n",
    "    x_points = []\n",
    "    z_points = []\n",
    "    alpha_points = []\n",
    "    x2_points = []\n",
    "    z2_points = []\n",
    "    for n in range(divisions+1):\n",
    "        xn, zn, alphan = get_x_z_alpha(ri + n*deltaR/divisions, thetai + n*deltaTheta/divisions, oi + n*deltaO/divisions)\n",
    "        #print(ri + n*deltaR/N, thetai + n*deltaTheta/N, oi + n*deltaO/N)\n",
    "        #print(get_r_theta_o(xn, zn, alphan))\n",
    "        #print(alphan)\n",
    "        x_points.append(round(xn,3))\n",
    "        z_points.append(round(zn,3))\n",
    "        alpha_points.append(round(alphan,3))\n",
    "        if plot:\n",
    "            x2, z2 = get_pos_punta(xn, zn, alphan*pi/180)\n",
    "            x2_points.append(x2)\n",
    "            z2_points.append(z2)\n",
    "        dist += sqrt((xn - x_a)**2 + (zn - z_a)**2 + (alphan - alpha_a)**2)\n",
    "        d.append(dist)\n",
    "        x_a, z_a, alpha_a = xn, zn, alphan\n",
    "\n",
    "    return x_points, z_points, alpha_points, d\n",
    "\n",
    "def max_dist_rec(acc, dec, T):\n",
    "    d_acc = (acc/2) * ((dec*T)/(acc+dec))**2\n",
    "    d_dec = acc*(dec*T)/(acc+dec) * (T-(dec*T)/(acc+dec)) / 2\n",
    "    dist_max = d_acc + d_dec\n",
    "    return dist_max\n",
    "\n",
    "def plan_speed_curve(d, acceleration, deceleration, T):\n",
    "    speed = (acceleration*deceleration*T - sqrt(acceleration*deceleration*(acceleration*deceleration*T**2 - 2*acceleration*d - 2*deceleration*d))) / (acceleration+deceleration)\n",
    "    t_acc = speed / acceleration\n",
    "    t_dec = T - speed / deceleration\n",
    "    return speed, t_acc, t_dec\n",
    "\n",
    "def plan_temps_according_to_speed(distances, vel, t_acc, t_dec, acc, dec):\n",
    "    d_t_acc = acc * t_acc**2 / 2\n",
    "    d_t_dec = d_t_acc + vel * (t_dec - t_acc)\n",
    "    temps = []\n",
    "    for d_sum in distances:\n",
    "        if d_sum < d_t_acc:\n",
    "            temps.append(sqrt(2*d_sum/acc))\n",
    "        elif d_sum < d_t_dec:\n",
    "            temps.append((d_sum - d_t_acc)/vel + t_acc)\n",
    "        else:\n",
    "            a = dec / 2\n",
    "            b = -(vel + (2*t_dec*dec)/2)\n",
    "            c = d_sum - d_t_dec + vel*t_dec + (dec*t_dec**2)/2\n",
    "            t = (-b - sqrt(round(b**2 - 4*a*c,3)))/(2*a)\n",
    "            temps.append(t)\n",
    "    return temps\n",
    "\n",
    "def x_mm_to_units(mm):\n",
    "    return int(mm * 1000 / 8 )\n",
    "\n",
    "def x_units_to_mm(units):\n",
    "    return units * 8 / 1000\n",
    "    \n",
    "def z_mm_to_units(mm):\n",
    "    return int(mm * 1000 / 8 )\n",
    "\n",
    "def z_units_to_mm(units):\n",
    "    return units * 8 / 1000\n",
    "    \n",
    "def alpha_angle_to_units(angle):\n",
    "    return int(angle * 10000 / 360)\n",
    "\n",
    "def alpha_units_to_angle(units):\n",
    "    return units * 360 / 10000\n",
    "    \n",
    "def plan_route(x_points, z_points, alpha_points, temps):\n",
    "    points = {'x': [], 'z': [], 'alpha': [], 't': []}\n",
    "\n",
    "    for i in range(len(x_points) - 1):\n",
    "        x = x_mm_to_units(x_points[i])            \n",
    "        z = z_mm_to_units(z_points[i])\n",
    "        alpha = alpha_angle_to_units(alpha_points[i])\n",
    "        t = temps[i]\n",
    "\n",
    "        points['x'].append(x)\n",
    "        points['z'].append(z)\n",
    "        points['alpha'].append(alpha)\n",
    "        points['t'].append(t)\n",
    "\n",
    "    return points\n",
    "        \n",
    "def get_route_a_b(initial_state, final_state, acc=20, dec=20, T=None, divisions=12):\n",
    "    x_points, z_points, alpha_points, d = get_route_positions(*initial_state.cart_coords(), *final_state.cart_coords(), divisions=divisions, plot=False)\n",
    "    if not T:\n",
    "        T = 0.1\n",
    "        while True:\n",
    "            if not max_dist_rec(acc, dec, T) < d[-1]:\n",
    "                break\n",
    "            T += 0.1\n",
    "        T = T*2\n",
    "    else:\n",
    "        if max_dist_rec(acc, dec, T) < d[-1]:\n",
    "            print(f'Impossible to achieve such position with given acceleration and deceleration. {d[-1]} > {max_dist_rec(acc, dec, T)}')\n",
    "            return None\n",
    "    vel, t_acc, t_dec = plan_speed_curve(d[-1], acc, dec, T)\n",
    "    temps = plan_temps_according_to_speed(d, vel, t_acc, t_dec, acc, dec)\n",
    "    route = plan_route(x_points, z_points, alpha_points, temps)\n",
    "    route['x'].append(x_mm_to_units(final_state.x))\n",
    "    route['z'].append(z_mm_to_units(final_state.z))\n",
    "    route['alpha'].append(alpha_angle_to_units(final_state.alpha))\n",
    "    route['t'].append(T)\n",
    "    return route\n",
    "\n",
    "def get_route_complete(path):\n",
    "    with open(path) as file:\n",
    "        data = json.load(file)\n",
    "    \n",
    "    #state_at_begining = State(*get_r_theta_o(x,z,alpha), 0)\n",
    "    initial_state = State(data['init_pos']['r'], data['init_pos']['theta'], data['init_pos']['offset'], 0)\n",
    "\n",
    "    route = {'x': [x_mm_to_units(initial_state.x)],\n",
    "             'z': [z_mm_to_units(initial_state.z)],\n",
    "             'alpha': [alpha_angle_to_units(initial_state.alpha)],\n",
    "             'flow': [0],\n",
    "             't': [0]} #get_route_a_b(state_at_begining, initial_state, acc=20, dec=20, T=None, divisions=200)\n",
    "\n",
    "    for act in data['phrase']:\n",
    "        if act['move']:\n",
    "            x = x_units_to_mm(route['x'][-1])\n",
    "            z = z_units_to_mm(route['z'][-1])\n",
    "            alpha = alpha_units_to_angle(route['alpha'][-1])\n",
    "            a = State(*get_r_theta_o(x, z, alpha), 0)\n",
    "            b = State(act['r'], act['theta'], act['offset'], act['flow'])\n",
    "            route_add = get_route_a_b(a, b, acc=act['acceleration'], dec=act['deceleration'], T=act['time'], divisions=int(act['time']*100))\n",
    "\n",
    "            Fi = route['flow'][-1]\n",
    "            Ff = act['flow']\n",
    "            t  = route['t'][-1]\n",
    "            ti = t\n",
    "            T  = act['time']\n",
    "            deformation = act['deformation']\n",
    "            vibrato_amp = act['vibrato_amp']\n",
    "            vibrato_freq = act['vibrato_freq']\n",
    "\n",
    "            for i in range(len(route_add['t'])):\n",
    "                route_add['t'][i] = route_add['t'][i] + ti\n",
    "                ramp = Fi + (Ff-Fi) * ((t-ti) / T) ** deformation\n",
    "                vibr = ramp * vibrato_amp * sin(t * 2*pi * vibrato_freq)\n",
    "                flow_sat = max(0,min(50, ramp+vibr))\n",
    "                route['flow'].append(flow_sat)\n",
    "                t += 0.01\n",
    "\n",
    "\n",
    "            route['x'] += route_add['x']\n",
    "            route['z'] += route_add['z']\n",
    "            route['alpha'] += route_add['alpha']\n",
    "            route['t'] += route_add['t']\n",
    "        else:\n",
    "            t = route['t'][-1]\n",
    "            T  = act['time']\n",
    "            Fi = act['flow']\n",
    "            vibrato_amp = act['vibrato_amp']\n",
    "            vibrato_freq = act['vibrato_freq']\n",
    "            for i in range(int(T*100)):\n",
    "                t += 0.01\n",
    "                vibr = Fi * vibrato_amp * sin(t * 2*pi * vibrato_freq)\n",
    "                flow_sat = max(0,min(50, Fi+vibr))\n",
    "                route['flow'].append(flow_sat)\n",
    "                route['x'].append(route['x'][-1])\n",
    "                route['z'].append(route['z'][-1])\n",
    "                route['alpha'].append(route['alpha'][-1])\n",
    "                route['t'].append(t)\n",
    "                \n",
    "    \n",
    "    route['x_vel'] = []\n",
    "    route['z_vel'] = []\n",
    "    route['alpha_vel'] = []\n",
    "    \n",
    "    for i in range(len(route['t']) - 1):\n",
    "        route['x_vel'].append(int((route['x'][i + 1] - route['x'][i]) / route['t'][i + 1] - route['t'][i]))\n",
    "        route['z_vel'].append(int((route['z'][i + 1] - route['z'][i]) / route['t'][i + 1] - route['t'][i]))\n",
    "        route['alpha_vel'].append(int((route['alpha'][i + 1] - route['alpha'][i]) / route['t'][i + 1] - route['t'][i]))\n",
    "    route['x_vel'].append(0)\n",
    "    route['z_vel'].append(0)\n",
    "    route['alpha_vel'].append(0)\n",
    "\n",
    "    return route\n",
    "\n",
    "def get_value_from_func(t, func):\n",
    "    t_val = min(int((len(func) - 1) * t / func[-1][0]), len(func) - 1)\n",
    "    if t < func[t_val][0]:\n",
    "        while t < func[t_val][0]:\n",
    "            t_val -= 1\n",
    "            if t_val < 0:\n",
    "                return func[0][1]\n",
    "        return round(func[t_val][1] + ((t - func[t_val][0]) / (func[t_val + 1][0] - func[t_val][0])) * (func[t_val + 1][1] - func[t_val][1]))\n",
    "    else:\n",
    "        while t > func[t_val][0]:\n",
    "            t_val += 1\n",
    "            if t_val >= len(func):\n",
    "                return func[-1][1]\n",
    "        return round(func[t_val - 1][1] + ((t - func[t_val - 1][0]) / (func[t_val][0] - func[t_val - 1][0])) * (func[t_val][1] - func[t_val - 1][1]))"
   ]
  },
  {
   "cell_type": "code",
   "execution_count": 102,
   "metadata": {},
   "outputs": [],
   "source": [
    "path = '/home/fernando/Dropbox/UC/Magister/robot-flautista/examples/escala_1.json'\n",
    "route = get_route_complete(path)"
   ]
  },
  {
   "cell_type": "code",
   "execution_count": 103,
   "metadata": {},
   "outputs": [
    {
     "data": {
      "image/png": "[encoded data removed]",
      "text/plain": [
       "<Figure size 640x480 with 1 Axes>"
      ]
     },
     "metadata": {},
     "output_type": "display_data"
    }
   ],
   "source": [
    "plt.plot(route['t'], route['x'])\n",
    "plt.ylabel('some numbers')\n",
    "plt.show()"
   ]
  },
  {
   "cell_type": "code",
   "execution_count": 104,
   "metadata": {},
   "outputs": [
    {
     "data": {
      "image/png": "[encoded data removed]",
      "text/plain": [
       "<Figure size 640x480 with 1 Axes>"
      ]
     },
     "metadata": {},
     "output_type": "display_data"
    }
   ],
   "source": [
    "plt.plot(route['t'][300:400], route['flow'][300:400])\n",
    "plt.ylabel('some numbers')\n",
    "plt.show()"
   ]
  },
  {
   "cell_type": "code",
   "execution_count": 3,
   "metadata": {},
   "outputs": [],
   "source": [
    "stateA = State(15,45,0,0)\n",
    "stateB = State(9,41,0.5,10)\n",
    "\n",
    "r = get_route(stateA, stateB, acc=35, dec=35, T=1, divisions=40)"
   ]
  },
  {
   "cell_type": "code",
   "execution_count": 3,
   "metadata": {},
   "outputs": [
    {
     "ename": "ValueError",
     "evalue": "x and y must have same first dimension, but have shapes (687,) and (681,)",
     "output_type": "error",
     "traceback": [
      "\u001b[0;31m---------------------------------------------------------------------------\u001b[0m",
      "\u001b[0;31mValueError\u001b[0m                                Traceback (most recent call last)",
      "\u001b[1;32m/home/fernando/Dropbox/UC/Magister/robot-flautista/route_var.ipynb Cell 5\u001b[0m in \u001b[0;36m<cell line: 1>\u001b[0;34m()\u001b[0m\n\u001b[0;32m----> <a href='vscode-notebook-cell:/home/fernando/Dropbox/UC/Magister/robot-flautista/route_var.ipynb#W4sZmlsZQ%3D%3D?line=0'>1</a>\u001b[0m plt\u001b[39m.\u001b[39;49mplot(route[\u001b[39m'\u001b[39;49m\u001b[39mt\u001b[39;49m\u001b[39m'\u001b[39;49m], route[\u001b[39m'\u001b[39;49m\u001b[39mflow\u001b[39;49m\u001b[39m'\u001b[39;49m])\n\u001b[1;32m      <a href='vscode-notebook-cell:/home/fernando/Dropbox/UC/Magister/robot-flautista/route_var.ipynb#W4sZmlsZQ%3D%3D?line=1'>2</a>\u001b[0m plt\u001b[39m.\u001b[39mylabel(\u001b[39m'\u001b[39m\u001b[39msome numbers\u001b[39m\u001b[39m'\u001b[39m)\n\u001b[1;32m      <a href='vscode-notebook-cell:/home/fernando/Dropbox/UC/Magister/robot-flautista/route_var.ipynb#W4sZmlsZQ%3D%3D?line=2'>3</a>\u001b[0m plt\u001b[39m.\u001b[39mshow()\n",
      "File \u001b[0;32m~/.local/lib/python3.10/site-packages/matplotlib/pyplot.py:2769\u001b[0m, in \u001b[0;36mplot\u001b[0;34m(scalex, scaley, data, *args, **kwargs)\u001b[0m\n\u001b[1;32m   2767\u001b[0m \u001b[39m@_copy_docstring_and_deprecators\u001b[39m(Axes\u001b[39m.\u001b[39mplot)\n\u001b[1;32m   2768\u001b[0m \u001b[39mdef\u001b[39;00m \u001b[39mplot\u001b[39m(\u001b[39m*\u001b[39margs, scalex\u001b[39m=\u001b[39m\u001b[39mTrue\u001b[39;00m, scaley\u001b[39m=\u001b[39m\u001b[39mTrue\u001b[39;00m, data\u001b[39m=\u001b[39m\u001b[39mNone\u001b[39;00m, \u001b[39m*\u001b[39m\u001b[39m*\u001b[39mkwargs):\n\u001b[0;32m-> 2769\u001b[0m     \u001b[39mreturn\u001b[39;00m gca()\u001b[39m.\u001b[39;49mplot(\n\u001b[1;32m   2770\u001b[0m         \u001b[39m*\u001b[39;49margs, scalex\u001b[39m=\u001b[39;49mscalex, scaley\u001b[39m=\u001b[39;49mscaley,\n\u001b[1;32m   2771\u001b[0m         \u001b[39m*\u001b[39;49m\u001b[39m*\u001b[39;49m({\u001b[39m\"\u001b[39;49m\u001b[39mdata\u001b[39;49m\u001b[39m\"\u001b[39;49m: data} \u001b[39mif\u001b[39;49;00m data \u001b[39mis\u001b[39;49;00m \u001b[39mnot\u001b[39;49;00m \u001b[39mNone\u001b[39;49;00m \u001b[39melse\u001b[39;49;00m {}), \u001b[39m*\u001b[39;49m\u001b[39m*\u001b[39;49mkwargs)\n",
      "File \u001b[0;32m~/.local/lib/python3.10/site-packages/matplotlib/axes/_axes.py:1632\u001b[0m, in \u001b[0;36mAxes.plot\u001b[0;34m(self, scalex, scaley, data, *args, **kwargs)\u001b[0m\n\u001b[1;32m   1390\u001b[0m \u001b[39m\"\"\"\u001b[39;00m\n\u001b[1;32m   1391\u001b[0m \u001b[39mPlot y versus x as lines and/or markers.\u001b[39;00m\n\u001b[1;32m   1392\u001b[0m \n\u001b[0;32m   (...)\u001b[0m\n\u001b[1;32m   1629\u001b[0m \u001b[39m(``'green'``) or hex strings (``'#008000'``).\u001b[39;00m\n\u001b[1;32m   1630\u001b[0m \u001b[39m\"\"\"\u001b[39;00m\n\u001b[1;32m   1631\u001b[0m kwargs \u001b[39m=\u001b[39m cbook\u001b[39m.\u001b[39mnormalize_kwargs(kwargs, mlines\u001b[39m.\u001b[39mLine2D)\n\u001b[0;32m-> 1632\u001b[0m lines \u001b[39m=\u001b[39m [\u001b[39m*\u001b[39m\u001b[39mself\u001b[39m\u001b[39m.\u001b[39m_get_lines(\u001b[39m*\u001b[39margs, data\u001b[39m=\u001b[39mdata, \u001b[39m*\u001b[39m\u001b[39m*\u001b[39mkwargs)]\n\u001b[1;32m   1633\u001b[0m \u001b[39mfor\u001b[39;00m line \u001b[39min\u001b[39;00m lines:\n\u001b[1;32m   1634\u001b[0m     \u001b[39mself\u001b[39m\u001b[39m.\u001b[39madd_line(line)\n",
      "File \u001b[0;32m~/.local/lib/python3.10/site-packages/matplotlib/axes/_base.py:312\u001b[0m, in \u001b[0;36m_process_plot_var_args.__call__\u001b[0;34m(self, data, *args, **kwargs)\u001b[0m\n\u001b[1;32m    310\u001b[0m     this \u001b[39m+\u001b[39m\u001b[39m=\u001b[39m args[\u001b[39m0\u001b[39m],\n\u001b[1;32m    311\u001b[0m     args \u001b[39m=\u001b[39m args[\u001b[39m1\u001b[39m:]\n\u001b[0;32m--> 312\u001b[0m \u001b[39myield from\u001b[39;00m \u001b[39mself\u001b[39;49m\u001b[39m.\u001b[39;49m_plot_args(this, kwargs)\n",
      "File \u001b[0;32m~/.local/lib/python3.10/site-packages/matplotlib/axes/_base.py:498\u001b[0m, in \u001b[0;36m_process_plot_var_args._plot_args\u001b[0;34m(self, tup, kwargs, return_kwargs)\u001b[0m\n\u001b[1;32m    495\u001b[0m     \u001b[39mself\u001b[39m\u001b[39m.\u001b[39maxes\u001b[39m.\u001b[39myaxis\u001b[39m.\u001b[39mupdate_units(y)\n\u001b[1;32m    497\u001b[0m \u001b[39mif\u001b[39;00m x\u001b[39m.\u001b[39mshape[\u001b[39m0\u001b[39m] \u001b[39m!=\u001b[39m y\u001b[39m.\u001b[39mshape[\u001b[39m0\u001b[39m]:\n\u001b[0;32m--> 498\u001b[0m     \u001b[39mraise\u001b[39;00m \u001b[39mValueError\u001b[39;00m(\u001b[39mf\u001b[39m\u001b[39m\"\u001b[39m\u001b[39mx and y must have same first dimension, but \u001b[39m\u001b[39m\"\u001b[39m\n\u001b[1;32m    499\u001b[0m                      \u001b[39mf\u001b[39m\u001b[39m\"\u001b[39m\u001b[39mhave shapes \u001b[39m\u001b[39m{\u001b[39;00mx\u001b[39m.\u001b[39mshape\u001b[39m}\u001b[39;00m\u001b[39m and \u001b[39m\u001b[39m{\u001b[39;00my\u001b[39m.\u001b[39mshape\u001b[39m}\u001b[39;00m\u001b[39m\"\u001b[39m)\n\u001b[1;32m    500\u001b[0m \u001b[39mif\u001b[39;00m x\u001b[39m.\u001b[39mndim \u001b[39m>\u001b[39m \u001b[39m2\u001b[39m \u001b[39mor\u001b[39;00m y\u001b[39m.\u001b[39mndim \u001b[39m>\u001b[39m \u001b[39m2\u001b[39m:\n\u001b[1;32m    501\u001b[0m     \u001b[39mraise\u001b[39;00m \u001b[39mValueError\u001b[39;00m(\u001b[39mf\u001b[39m\u001b[39m\"\u001b[39m\u001b[39mx and y can be no greater than 2D, but have \u001b[39m\u001b[39m\"\u001b[39m\n\u001b[1;32m    502\u001b[0m                      \u001b[39mf\u001b[39m\u001b[39m\"\u001b[39m\u001b[39mshapes \u001b[39m\u001b[39m{\u001b[39;00mx\u001b[39m.\u001b[39mshape\u001b[39m}\u001b[39;00m\u001b[39m and \u001b[39m\u001b[39m{\u001b[39;00my\u001b[39m.\u001b[39mshape\u001b[39m}\u001b[39;00m\u001b[39m\"\u001b[39m)\n",
      "\u001b[0;31mValueError\u001b[0m: x and y must have same first dimension, but have shapes (687,) and (681,)"
     ]
    },
    {
     "data": {
      "image/png": "[encoded data removed]",
      "text/plain": [
       "<Figure size 432x288 with 1 Axes>"
      ]
     },
     "metadata": {
      "needs_background": "light"
     },
     "output_type": "display_data"
    }
   ],
   "source": [
    "plt.plot(r['t'], r['x'])\n",
    "plt.ylabel('some numbers')\n",
    "plt.show()"
   ]
  },
  {
   "cell_type": "code",
   "execution_count": 80,
   "metadata": {},
   "outputs": [],
   "source": [
    "with open('/home/fernando/Dropbox/UC/Magister/robot-flautista/examples/escala.json') as file:\n",
    "    data = json.load(file)"
   ]
  },
  {
   "cell_type": "code",
   "execution_count": 9,
   "metadata": {},
   "outputs": [],
   "source": [
    "x = []\n",
    "z = []\n",
    "alpha = []\n",
    "for i in range(len(r['t'])):\n",
    "    x.append((r['t'][i], r['x'][i]))\n",
    "    z.append((r['t'][i], r['z'][i]))\n",
    "    alpha.append((r['t'][i], r['alpha'][i]))"
   ]
  },
  {
   "cell_type": "code",
   "execution_count": 90,
   "metadata": {},
   "outputs": [],
   "source": [
    "def get_value_from_func(t, func):\n",
    "    t_val = min(int((len(func) - 1) * t / func[-1][0]), len(func) - 1)\n",
    "    if t < func[t_val][0]:\n",
    "        while t < func[t_val][0]:\n",
    "            t_val -= 1\n",
    "            if t_val < 0:\n",
    "                return func[0][1]\n",
    "        return round(func[t_val][1] + ((t - func[t_val][0]) / (func[t_val + 1][0] - func[t_val][0])) * (func[t_val + 1][1] - func[t_val][1]))\n",
    "    else:\n",
    "        while t > func[t_val][0]:\n",
    "            t_val += 1\n",
    "            if t_val >= len(func):\n",
    "                return func[-1][1]\n",
    "        return round(func[t_val - 1][1] + ((t - func[t_val - 1][0]) / (func[t_val][0] - func[t_val - 1][0])) * (func[t_val][1] - func[t_val - 1][1]))"
   ]
  },
  {
   "cell_type": "code",
   "execution_count": 91,
   "metadata": {},
   "outputs": [
    {
     "data": {
      "text/plain": [
       "7012"
      ]
     },
     "execution_count": 91,
     "metadata": {},
     "output_type": "execute_result"
    }
   ],
   "source": [
    "get_value_from_func(1.95, x)"
   ]
  },
  {
   "cell_type": "code",
   "execution_count": 93,
   "metadata": {},
   "outputs": [
    {
     "data": {
      "image/png": "[encoded data removed]",
      "text/plain": [
       "<Figure size 432x288 with 1 Axes>"
      ]
     },
     "metadata": {
      "needs_background": "light"
     },
     "output_type": "display_data"
    }
   ],
   "source": [
    "ts = linspace(-1, 2, 100)\n",
    "xs = [get_value_from_func(i, x) for i in ts]\n",
    "plt.plot(ts, xs)\n",
    "plt.ylabel('some numbers')\n",
    "plt.show()"
   ]
  },
  {
   "cell_type": "code",
   "execution_count": 55,
   "metadata": {},
   "outputs": [
    {
     "data": {
      "text/plain": [
       "[6250,\n",
       " 6254,\n",
       " 6259,\n",
       " 6263,\n",
       " 6267,\n",
       " 6277,\n",
       " 6288,\n",
       " 6303,\n",
       " 6319,\n",
       " 6337,\n",
       " 6358,\n",
       " 6380,\n",
       " 6406,\n",
       " 6433,\n",
       " 6463,\n",
       " 6492,\n",
       " 6522,\n",
       " 6552,\n",
       " 6581,\n",
       " 6611,\n",
       " 6641,\n",
       " 6671,\n",
       " 6700,\n",
       " 6730,\n",
       " 6760,\n",
       " 6790,\n",
       " 6820,\n",
       " 6856,\n",
       " 6881,\n",
       " 6911,\n",
       " 6939,\n",
       " 6962,\n",
       " 6990,\n",
       " 7001,\n",
       " 7016,\n",
       " 7028,\n",
       " 7043,\n",
       " 7042,\n",
       " 7043,\n",
       " 7012]"
      ]
     },
     "execution_count": 55,
     "metadata": {},
     "output_type": "execute_result"
    }
   ],
   "source": [
    "xs"
   ]
  },
  {
   "cell_type": "code",
   "execution_count": null,
   "metadata": {},
   "outputs": [],
   "source": []
  }
 ],
 "metadata": {
  "kernelspec": {
   "display_name": "Python 3 (ipykernel)",
   "language": "python",
   "name": "python3"
  },
  "language_info": {
   "codemirror_mode": {
    "name": "ipython",
    "version": 3
   },
   "file_extension": ".py",
   "mimetype": "text/x-python",
   "name": "python",
   "nbconvert_exporter": "python",
   "pygments_lexer": "ipython3",
   "version": "3.10.7"
  },
  "vscode": {
   "interpreter": {
    "hash": "e7370f93d1d0cde622a1f8e1c04877d8463912d04d973331ad4851f04de6915a"
   }
  }
 },
 "nbformat": 4,
 "nbformat_minor": 2
}
